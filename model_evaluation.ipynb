{
 "cells": [
  {
   "cell_type": "code",
   "execution_count": 2,
   "metadata": {},
   "outputs": [
    {
     "data": {
      "text/plain": [
       "'\\n|               | actual cat | actual dog |\\n|:------------  |-----------:|-----------:|\\n| predicted cat |         34 |          7 |\\n| predicted dog |         13 |         46 |\\n'"
      ]
     },
     "execution_count": 2,
     "metadata": {},
     "output_type": "execute_result"
    }
   ],
   "source": [
    "# Given the following confusion matrix, evaluate (by hand) the model's performance.\n",
    "\n",
    "\"\"\"\n",
    "|               | actual cat | actual dog |\n",
    "|:------------  |-----------:|-----------:|\n",
    "| predicted cat |         34 |          7 |\n",
    "| predicted dog |         13 |         46 |\n",
    "\"\"\""
   ]
  },
  {
   "cell_type": "markdown",
   "metadata": {},
   "source": [
    "#### In the context of this problem, what is a false positive?"
   ]
  },
  {
   "cell_type": "code",
   "execution_count": 3,
   "metadata": {},
   "outputs": [],
   "source": [
    "# Answer: A false positive is one of the 7 instances where were we predicted a cat but it was actually a dog"
   ]
  },
  {
   "cell_type": "markdown",
   "metadata": {},
   "source": [
    "#### In the context of this problem, what is a false negative?"
   ]
  },
  {
   "cell_type": "code",
   "execution_count": 4,
   "metadata": {},
   "outputs": [],
   "source": [
    "# Answer: A false negative is one of the 13 instances where were we predicted a dog but it was actually a cat"
   ]
  },
  {
   "cell_type": "markdown",
   "metadata": {},
   "source": [
    "#### How would you describe this model?"
   ]
  },
  {
   "cell_type": "code",
   "execution_count": null,
   "metadata": {},
   "outputs": [],
   "source": [
    "# Answer: This is a confusion matrix"
   ]
  },
  {
   "cell_type": "markdown",
   "metadata": {},
   "source": [
    "#### You are working as a datascientist working for Codeup Cody Creator (C3 for short), a rubber-duck manufacturing plant. \n",
    "#### Unfortunately, some of the rubber ducks that are produced will have defects. \n",
    "\n",
    "#### Your team has built several models that try to predict those defects, and the data from their predictions can be found here.\n",
    "\n",
    "#### Use the predictions dataset and pandas to help answer the following questions:"
   ]
  },
  {
   "cell_type": "markdown",
   "metadata": {},
   "source": [
    "#### An internal team wants to investigate the cause of the manufacturing defects. \n",
    "#### They tell you that they want to identify as many of the ducks that have a defect as possible. "
   ]
  },
  {
   "cell_type": "code",
   "execution_count": 64,
   "metadata": {},
   "outputs": [
    {
     "data": {
      "text/html": [
       "<div>\n",
       "<style scoped>\n",
       "    .dataframe tbody tr th:only-of-type {\n",
       "        vertical-align: middle;\n",
       "    }\n",
       "\n",
       "    .dataframe tbody tr th {\n",
       "        vertical-align: top;\n",
       "    }\n",
       "\n",
       "    .dataframe thead th {\n",
       "        text-align: right;\n",
       "    }\n",
       "</style>\n",
       "<table border=\"1\" class=\"dataframe\">\n",
       "  <thead>\n",
       "    <tr style=\"text-align: right;\">\n",
       "      <th>actual</th>\n",
       "      <th>Defect</th>\n",
       "      <th>No Defect</th>\n",
       "    </tr>\n",
       "    <tr>\n",
       "      <th>model1</th>\n",
       "      <th></th>\n",
       "      <th></th>\n",
       "    </tr>\n",
       "  </thead>\n",
       "  <tbody>\n",
       "    <tr>\n",
       "      <th>Defect</th>\n",
       "      <td>8</td>\n",
       "      <td>2</td>\n",
       "    </tr>\n",
       "    <tr>\n",
       "      <th>No Defect</th>\n",
       "      <td>8</td>\n",
       "      <td>182</td>\n",
       "    </tr>\n",
       "  </tbody>\n",
       "</table>\n",
       "</div>"
      ],
      "text/plain": [
       "actual     Defect  No Defect\n",
       "model1                      \n",
       "Defect          8          2\n",
       "No Defect       8        182"
      ]
     },
     "execution_count": 64,
     "metadata": {},
     "output_type": "execute_result"
    }
   ],
   "source": [
    "# importing pandas\n",
    "import pandas as pd\n",
    "\n",
    "# converting csv data to DF\n",
    "c3 = pd.read_csv('c3.csv')\n",
    "\n",
    "# creating crosstab of model1 predictions vs actual results\n",
    "c3m1 = pd.crosstab(c3.model1, c3.actual)\n",
    "\n",
    "# displaying crosstab\n",
    "c3m1"
   ]
  },
  {
   "cell_type": "markdown",
   "metadata": {},
   "source": [
    "### Cell below was done for my understanding and is not part of answer"
   ]
  },
  {
   "cell_type": "code",
   "execution_count": 110,
   "metadata": {},
   "outputs": [
    {
     "data": {
      "text/plain": [
       "0.95"
      ]
     },
     "execution_count": 110,
     "metadata": {},
     "output_type": "execute_result"
    }
   ],
   "source": [
    "# calculating method1's accuracy\n",
    "m1_accuracy = (c3.model1 == c3.actual).mean()\n",
    "\n",
    "# how often model1 accurately predicted if there was a defect or not\n",
    "# ie. 95% of the time, model1's prediction was right\n",
    "m1_accuracy"
   ]
  },
  {
   "cell_type": "markdown",
   "metadata": {},
   "source": [
    "### Cell below was done for my understanding and is not part of answer"
   ]
  },
  {
   "cell_type": "code",
   "execution_count": 111,
   "metadata": {},
   "outputs": [
    {
     "data": {
      "text/plain": [
       "0.5"
      ]
     },
     "execution_count": 111,
     "metadata": {},
     "output_type": "execute_result"
    }
   ],
   "source": [
    "# creating subset\n",
    "subset = c3[c3.actual == 'Defect']\n",
    "\n",
    "# calculating method1's recall\n",
    "m1_recall = (subset.model1 == subset.actual).mean()\n",
    "\n",
    "# how often model1 predicted there was a defect, when there actually was a defect\n",
    "# ie. whenever there was a defect, model1 predicted it was a defect 50% of the time\n",
    "m1_recall"
   ]
  },
  {
   "cell_type": "markdown",
   "metadata": {},
   "source": [
    "### Cell below was done for my understanding and is not part of answer"
   ]
  },
  {
   "cell_type": "code",
   "execution_count": 112,
   "metadata": {},
   "outputs": [
    {
     "data": {
      "text/plain": [
       "0.8"
      ]
     },
     "execution_count": 112,
     "metadata": {},
     "output_type": "execute_result"
    }
   ],
   "source": [
    "# creating subset\n",
    "subset = c3[c3.model1 == 'Defect']\n",
    "\n",
    "# calculating method1's precision\n",
    "m1_precision = (subset.model1 == subset.actual).mean()\n",
    "\n",
    "# how often model1 was right when it predicted there was a defect (positive)\n",
    "# 80% of the time that model1 predicted there was a defect, it was correct\n",
    "m1_precision"
   ]
  },
  {
   "cell_type": "markdown",
   "metadata": {},
   "source": [
    "### Cell below was done for my understanding and is not part of answer"
   ]
  },
  {
   "cell_type": "code",
   "execution_count": 42,
   "metadata": {},
   "outputs": [
    {
     "data": {
      "text/plain": [
       "0.99"
      ]
     },
     "execution_count": 42,
     "metadata": {},
     "output_type": "execute_result"
    }
   ],
   "source": [
    "# creating subset\n",
    "subset = c3[c3.actual == 'No Defect']\n",
    "\n",
    "# calculating method1's specificity\n",
    "m1_specificity = (subset.model1 == subset.actual).mean()\n",
    "\n",
    "# how often model1 predicted there was no defect when there was no defect\n",
    "# ie. 99% of the time, if there was no defect, model1 predicted it accurately\n",
    "round(m1_specificity,2)"
   ]
  },
  {
   "cell_type": "markdown",
   "metadata": {},
   "source": [
    "## Exercise answers resume here"
   ]
  },
  {
   "cell_type": "markdown",
   "metadata": {},
   "source": [
    "#### Which evaluation metric would be appropriate here?"
   ]
  },
  {
   "cell_type": "code",
   "execution_count": 53,
   "metadata": {},
   "outputs": [
    {
     "name": "stdout",
     "output_type": "stream",
     "text": [
      "Since we consider a defect a positive, the recall metric would be most appropriate\n"
     ]
    }
   ],
   "source": [
    "# Answer: We consider a non-defect a negative and a defect a positive. We're going to use recall since we \n",
    "# want to focus on detecting positives (defects) when there is a positive (defect). \n",
    "print(f'Since we consider a defect a positive, the recall metric would be most appropriate')"
   ]
  },
  {
   "cell_type": "markdown",
   "metadata": {},
   "source": [
    "#### Which model would be the best fit for this use case?"
   ]
  },
  {
   "cell_type": "code",
   "execution_count": 113,
   "metadata": {},
   "outputs": [
    {
     "name": "stdout",
     "output_type": "stream",
     "text": [
      "m1_recall:0.5\n",
      "m2_recall:0.5625\n",
      "m3_recall:0.8125\n",
      "\n",
      "model3 is the best model to use in this situation\n"
     ]
    }
   ],
   "source": [
    "# creating subset\n",
    "subset = c3[c3.actual == 'Defect']\n",
    "\n",
    "# calculating reacall for all 3 models\n",
    "m1_recall = (subset.model1 == subset.actual).mean()\n",
    "m2_recall = (subset.model2 == subset.actual).mean()\n",
    "m3_recall = (subset.model3 == subset.actual).mean()\n",
    "\n",
    "# displaying recall results\n",
    "print(f'm1_recall:{m1_recall}\\nm2_recall:{m2_recall}\\nm3_recall:{m3_recall}')\n",
    "\n",
    "# Answer: m3 is the best model for this use case because its prediction was\n",
    "# accurate 81% of the time that a defect was present so it has the best chance of detecting defects\n",
    "print(f'\\nmodel3 is the best model to use in this situation')"
   ]
  },
  {
   "cell_type": "markdown",
   "metadata": {},
   "source": [
    "##### Recently several stories in the local news have come out highlighting customers who received a rubber duck with a defect, and portraying C3 in a bad light. The PR team has decided to launch a program that gives customers with a defective duck a vacation to Hawaii. They need you to predict which ducks will have defects, but tell you the really don't want to accidentally give out a vacation package when the duck really doesn't have a defect. "
   ]
  },
  {
   "cell_type": "markdown",
   "metadata": {},
   "source": [
    "#### Which evaluation metric would be appropriate here? "
   ]
  },
  {
   "cell_type": "code",
   "execution_count": 114,
   "metadata": {},
   "outputs": [
    {
     "name": "stdout",
     "output_type": "stream",
     "text": [
      "Answer: Since we consider defects to be positives and we want to minimize the amount of false positives we get, precision would be the best method to use.\n"
     ]
    }
   ],
   "source": [
    "# Answer: Since we consider defects to be positives and we want to minimize the amount of false\n",
    "# positives we get, precision would be the best method to use.\n",
    "print('Answer: Since we consider defects to be positives and we want to minimize the amount of false positives we get, precision would be the best method to use.')"
   ]
  },
  {
   "cell_type": "markdown",
   "metadata": {},
   "source": [
    "#### Which model would be the best fit for this use case?"
   ]
  },
  {
   "cell_type": "code",
   "execution_count": 115,
   "metadata": {},
   "outputs": [
    {
     "name": "stdout",
     "output_type": "stream",
     "text": [
      "m1_precision: 0.8\n",
      "m2_precision: 0.4\n",
      "m3_precision: 0.8\n",
      "\n",
      "Answer: model1 and model3 could both be used in this case since they both detected defects with an equal amount of precision\n"
     ]
    }
   ],
   "source": [
    "# creating subset\n",
    "subset = c3[c3.model1 == 'Defect']\n",
    "\n",
    "# calculating precision for all 3 methods\n",
    "m1_precision = (subset.model1 == subset.actual).mean()\n",
    "m2_precision = (subset.model2 == subset.actual).mean()\n",
    "m3_precision = (subset.model3 == subset.actual).mean()\n",
    "\n",
    "# printing precision results\n",
    "print('m1_precision:', m1_precision)\n",
    "print('m2_precision:', m2_precision)\n",
    "print('m3_precision:', m3_precision)\n",
    "\n",
    "# answer: Models 1 and 3 have the exact same precision so either could be used\n",
    "print('\\nAnswer: model1 and model3 could both be used in this case since they both detected defects with an equal amount of precision')"
   ]
  },
  {
   "cell_type": "markdown",
   "metadata": {},
   "source": [
    "#### You are working as a data scientist for Gives You Paws ™, a subscription based service that shows you cute pictures of dogs or cats (or both for an additional fee). At Gives You Paws, anyone can upload pictures of their cats or dogs. The photos are then put through a two step process. \n",
    "\n",
    "#### First an automated algorithm tags pictures as either a cat or a dog (Phase I). \n",
    "\n",
    "#### Next, the photos that have been initially identified are put through another round of review, possibly with some human oversight, before being presented to the users (Phase II).\n",
    "\n",
    "#### Several models have already been developed with the data, and you can find their results here. \n",
    "\n",
    "#### Given this dataset, use pandas to create a baseline model (i.e. a model that just predicts the most common class) and answer the following questions:"
   ]
  },
  {
   "cell_type": "code",
   "execution_count": 116,
   "metadata": {},
   "outputs": [
    {
     "data": {
      "text/plain": [
       "dog    3254\n",
       "cat    1746\n",
       "Name: actual, dtype: int64"
      ]
     },
     "execution_count": 116,
     "metadata": {},
     "output_type": "execute_result"
    }
   ],
   "source": [
    "# converting csv data into DF\n",
    "gp = pd.read_csv('gives_you_paws.csv')\n",
    "\n",
    "# using value count to detrmine which class is most prevalent\n",
    "gp.actual.value_counts()"
   ]
  },
  {
   "cell_type": "code",
   "execution_count": 122,
   "metadata": {},
   "outputs": [
    {
     "data": {
      "text/html": [
       "<div>\n",
       "<style scoped>\n",
       "    .dataframe tbody tr th:only-of-type {\n",
       "        vertical-align: middle;\n",
       "    }\n",
       "\n",
       "    .dataframe tbody tr th {\n",
       "        vertical-align: top;\n",
       "    }\n",
       "\n",
       "    .dataframe thead th {\n",
       "        text-align: right;\n",
       "    }\n",
       "</style>\n",
       "<table border=\"1\" class=\"dataframe\">\n",
       "  <thead>\n",
       "    <tr style=\"text-align: right;\">\n",
       "      <th></th>\n",
       "      <th>actual</th>\n",
       "      <th>model1</th>\n",
       "      <th>model2</th>\n",
       "      <th>model3</th>\n",
       "      <th>model4</th>\n",
       "      <th>baseline</th>\n",
       "    </tr>\n",
       "  </thead>\n",
       "  <tbody>\n",
       "    <tr>\n",
       "      <th>0</th>\n",
       "      <td>cat</td>\n",
       "      <td>cat</td>\n",
       "      <td>dog</td>\n",
       "      <td>cat</td>\n",
       "      <td>dog</td>\n",
       "      <td>dog</td>\n",
       "    </tr>\n",
       "    <tr>\n",
       "      <th>1</th>\n",
       "      <td>dog</td>\n",
       "      <td>dog</td>\n",
       "      <td>cat</td>\n",
       "      <td>cat</td>\n",
       "      <td>dog</td>\n",
       "      <td>dog</td>\n",
       "    </tr>\n",
       "    <tr>\n",
       "      <th>2</th>\n",
       "      <td>dog</td>\n",
       "      <td>cat</td>\n",
       "      <td>cat</td>\n",
       "      <td>cat</td>\n",
       "      <td>dog</td>\n",
       "      <td>dog</td>\n",
       "    </tr>\n",
       "    <tr>\n",
       "      <th>3</th>\n",
       "      <td>dog</td>\n",
       "      <td>dog</td>\n",
       "      <td>dog</td>\n",
       "      <td>cat</td>\n",
       "      <td>dog</td>\n",
       "      <td>dog</td>\n",
       "    </tr>\n",
       "    <tr>\n",
       "      <th>4</th>\n",
       "      <td>cat</td>\n",
       "      <td>cat</td>\n",
       "      <td>cat</td>\n",
       "      <td>dog</td>\n",
       "      <td>dog</td>\n",
       "      <td>dog</td>\n",
       "    </tr>\n",
       "    <tr>\n",
       "      <th>...</th>\n",
       "      <td>...</td>\n",
       "      <td>...</td>\n",
       "      <td>...</td>\n",
       "      <td>...</td>\n",
       "      <td>...</td>\n",
       "      <td>...</td>\n",
       "    </tr>\n",
       "    <tr>\n",
       "      <th>4995</th>\n",
       "      <td>dog</td>\n",
       "      <td>dog</td>\n",
       "      <td>dog</td>\n",
       "      <td>dog</td>\n",
       "      <td>dog</td>\n",
       "      <td>dog</td>\n",
       "    </tr>\n",
       "    <tr>\n",
       "      <th>4996</th>\n",
       "      <td>dog</td>\n",
       "      <td>dog</td>\n",
       "      <td>cat</td>\n",
       "      <td>cat</td>\n",
       "      <td>dog</td>\n",
       "      <td>dog</td>\n",
       "    </tr>\n",
       "    <tr>\n",
       "      <th>4997</th>\n",
       "      <td>dog</td>\n",
       "      <td>cat</td>\n",
       "      <td>cat</td>\n",
       "      <td>dog</td>\n",
       "      <td>dog</td>\n",
       "      <td>dog</td>\n",
       "    </tr>\n",
       "    <tr>\n",
       "      <th>4998</th>\n",
       "      <td>cat</td>\n",
       "      <td>cat</td>\n",
       "      <td>cat</td>\n",
       "      <td>cat</td>\n",
       "      <td>dog</td>\n",
       "      <td>dog</td>\n",
       "    </tr>\n",
       "    <tr>\n",
       "      <th>4999</th>\n",
       "      <td>dog</td>\n",
       "      <td>dog</td>\n",
       "      <td>dog</td>\n",
       "      <td>dog</td>\n",
       "      <td>dog</td>\n",
       "      <td>dog</td>\n",
       "    </tr>\n",
       "  </tbody>\n",
       "</table>\n",
       "<p>5000 rows × 6 columns</p>\n",
       "</div>"
      ],
      "text/plain": [
       "     actual model1 model2 model3 model4 baseline\n",
       "0       cat    cat    dog    cat    dog      dog\n",
       "1       dog    dog    cat    cat    dog      dog\n",
       "2       dog    cat    cat    cat    dog      dog\n",
       "3       dog    dog    dog    cat    dog      dog\n",
       "4       cat    cat    cat    dog    dog      dog\n",
       "...     ...    ...    ...    ...    ...      ...\n",
       "4995    dog    dog    dog    dog    dog      dog\n",
       "4996    dog    dog    cat    cat    dog      dog\n",
       "4997    dog    cat    cat    dog    dog      dog\n",
       "4998    cat    cat    cat    cat    dog      dog\n",
       "4999    dog    dog    dog    dog    dog      dog\n",
       "\n",
       "[5000 rows x 6 columns]"
      ]
     },
     "execution_count": 122,
     "metadata": {},
     "output_type": "execute_result"
    }
   ],
   "source": [
    "# creating baseline with most common class, dog\n",
    "gp['baseline'] = 'dog'\n",
    "\n",
    "# displaying results\n",
    "gp"
   ]
  },
  {
   "cell_type": "markdown",
   "metadata": {},
   "source": [
    "#### In terms of accuracy, how do the various models compare to the baseline model? "
   ]
  },
  {
   "cell_type": "code",
   "execution_count": 123,
   "metadata": {},
   "outputs": [
    {
     "name": "stdout",
     "output_type": "stream",
     "text": [
      "baseline accuracy:  0.6508\n",
      "model1_accuracy:  0.8074\n",
      "model2_accuracy:  0.6304\n",
      "model3_accuracy:  0.5096\n",
      "model4_accuracy:  0.7426\n",
      "\n",
      "Models 1 and 4 have higher accuracy while models 2 and 3 have lower accuracy compared to the baseline\n"
     ]
    }
   ],
   "source": [
    "# calculating accuracy for baseline and 4 models\n",
    "baseline_acc = (gp.baseline == gp.actual).mean()\n",
    "model1_acc = (gp.model1 == gp.actual).mean()\n",
    "model2_acc = (gp.model2 == gp.actual).mean()\n",
    "model3_acc = (gp.model3 == gp.actual).mean()\n",
    "model4_acc = (gp.model4 == gp.actual).mean()\n",
    "\n",
    "# printing results\n",
    "print('baseline accuracy: ',baseline_acc)\n",
    "print('model1_accuracy: ',model1_acc)\n",
    "print('model2_accuracy: ',model2_acc)\n",
    "print('model3_accuracy: ',model3_acc)\n",
    "print('model4_accuracy: ',model4_acc)\n",
    "\n",
    "# Answer: models 1 and 4 accuracy > baseline | models 2 and 3 accuracy < baseline\n",
    "print('\\nModels 1 and 4 have higher accuracy while models 2 and 3 have lower accuracy compared to the baseline')"
   ]
  },
  {
   "cell_type": "markdown",
   "metadata": {},
   "source": [
    "#### Are any of the models better than the baseline?"
   ]
  },
  {
   "cell_type": "code",
   "execution_count": 124,
   "metadata": {},
   "outputs": [
    {
     "name": "stdout",
     "output_type": "stream",
     "text": [
      "Yes, model1 and model4 are both more accurate than the baseline\n"
     ]
    }
   ],
   "source": [
    "# Yes, model1 and model4 are both more accuarate than the baseline\n",
    "print('Yes, model1 and model4 are both more accurate than the baseline')"
   ]
  },
  {
   "cell_type": "markdown",
   "metadata": {},
   "source": [
    "#### Suppose you are working on a team that solely deals with dog pictures. \n",
    "#### Which of these models would you recomend for Phase I? "
   ]
  },
  {
   "cell_type": "code",
   "execution_count": null,
   "metadata": {},
   "outputs": [],
   "source": []
  },
  {
   "cell_type": "markdown",
   "metadata": {},
   "source": [
    "#### For Phase II?"
   ]
  },
  {
   "cell_type": "code",
   "execution_count": null,
   "metadata": {},
   "outputs": [],
   "source": []
  },
  {
   "cell_type": "markdown",
   "metadata": {},
   "source": [
    "#### Suppose you are working on a team that solely deals with cat pictures. \n",
    "#### Which of these models would you recomend for Phase I? "
   ]
  },
  {
   "cell_type": "code",
   "execution_count": null,
   "metadata": {},
   "outputs": [],
   "source": []
  },
  {
   "cell_type": "markdown",
   "metadata": {},
   "source": [
    "#### For Phase II?"
   ]
  },
  {
   "cell_type": "code",
   "execution_count": null,
   "metadata": {},
   "outputs": [],
   "source": []
  },
  {
   "cell_type": "markdown",
   "metadata": {},
   "source": [
    "#### Follow the links below to read the documentation about each function, then apply those functions to the data from the previous problem."
   ]
  },
  {
   "cell_type": "markdown",
   "metadata": {},
   "source": [
    "#### sklearn.metrics.accuracy_score"
   ]
  },
  {
   "cell_type": "code",
   "execution_count": 125,
   "metadata": {},
   "outputs": [
    {
     "name": "stdout",
     "output_type": "stream",
     "text": [
      "baseline accuracy:  0.6508\n",
      "model1 accuracy:  0.8074\n",
      "model2 accuracy:  0.6304\n",
      "model3 accuracy:  0.5096\n",
      "model4 accuracy:  0.7426\n"
     ]
    }
   ],
   "source": [
    "# importing function\n",
    "from sklearn.metrics import accuracy_score\n",
    "\n",
    "# printing accuracy score for baseline and 4 models\n",
    "print('baseline accuracy: ',accuracy_score(gp.actual, gp.baseline))\n",
    "print('model1 accuracy: ',accuracy_score(gp.actual, gp.model1))\n",
    "print('model2 accuracy: ',accuracy_score(gp.actual, gp.model2))\n",
    "print('model3 accuracy: ',accuracy_score(gp.actual, gp.model3))\n",
    "print('model4 accuracy: ',accuracy_score(gp.actual, gp.model4))"
   ]
  },
  {
   "cell_type": "markdown",
   "metadata": {},
   "source": [
    "#### sklearn.metrics.precision_score"
   ]
  },
  {
   "cell_type": "code",
   "execution_count": 130,
   "metadata": {},
   "outputs": [
    {
     "name": "stdout",
     "output_type": "stream",
     "text": [
      "baseline precision:  [0.     0.6508]\n",
      "model1 precision:  [0.68977218 0.89002383]\n",
      "model2 precision:  [0.48412204 0.89317673]\n",
      "model3 precision:  [0.35834671 0.65988836]\n",
      "model4 precision:  [0.80722892 0.73124853]\n"
     ]
    }
   ],
   "source": [
    "# importing function\n",
    "from sklearn.metrics import precision_score\n",
    "\n",
    "# printing precision score for baseline and 4 models\n",
    "print('baseline precision: ',precision_score(gp.actual, gp.baseline, average = None))\n",
    "print('model1 precision: ',precision_score(gp.actual, gp.model1, average = None))\n",
    "print('model2 precision: ',precision_score(gp.actual, gp.model2, average = None))\n",
    "print('model3 precision: ',precision_score(gp.actual, gp.model3, average = None))\n",
    "print('model4 precision: ',precision_score(gp.actual, gp.model4, average = None))"
   ]
  },
  {
   "cell_type": "markdown",
   "metadata": {},
   "source": [
    "#### sklearn.metrics.recall_score"
   ]
  },
  {
   "cell_type": "code",
   "execution_count": 127,
   "metadata": {},
   "outputs": [
    {
     "name": "stdout",
     "output_type": "stream",
     "text": [
      "baseline recall:  [0. 1.]\n",
      "model1 recall:  [0.81500573 0.80331899]\n",
      "model2 recall:  [0.8906071  0.49078058]\n",
      "model3 recall:  [0.51145475 0.50860479]\n",
      "model4 recall:  [0.34536082 0.95574677]\n"
     ]
    }
   ],
   "source": [
    "# importing function\n",
    "from sklearn.metrics import recall_score\n",
    "\n",
    "# printing accuracy score for baseline and 4 models\n",
    "print('baseline recall: ',recall_score(gp.actual, gp.baseline, average = None))\n",
    "print('model1 recall: ',recall_score(gp.actual, gp.model1, average = None))\n",
    "print('model2 recall: ',recall_score(gp.actual, gp.model2, average = None))\n",
    "print('model3 recall: ',recall_score(gp.actual, gp.model3, average = None))\n",
    "print('model4 recall: ',recall_score(gp.actual, gp.model4, average = None))"
   ]
  },
  {
   "cell_type": "markdown",
   "metadata": {},
   "source": [
    "#### sklearn.metrics.classification_report"
   ]
  },
  {
   "cell_type": "code",
   "execution_count": 129,
   "metadata": {},
   "outputs": [
    {
     "name": "stdout",
     "output_type": "stream",
     "text": [
      "baseline classification report:                precision    recall  f1-score   support\n",
      "\n",
      "         cat       0.00      0.00      0.00      1746\n",
      "         dog       0.65      1.00      0.79      3254\n",
      "\n",
      "    accuracy                           0.65      5000\n",
      "   macro avg       0.33      0.50      0.39      5000\n",
      "weighted avg       0.42      0.65      0.51      5000\n",
      "\n",
      "model1 classification report:                precision    recall  f1-score   support\n",
      "\n",
      "         cat       0.69      0.82      0.75      1746\n",
      "         dog       0.89      0.80      0.84      3254\n",
      "\n",
      "    accuracy                           0.81      5000\n",
      "   macro avg       0.79      0.81      0.80      5000\n",
      "weighted avg       0.82      0.81      0.81      5000\n",
      "\n",
      "model2 classification report:                precision    recall  f1-score   support\n",
      "\n",
      "         cat       0.48      0.89      0.63      1746\n",
      "         dog       0.89      0.49      0.63      3254\n",
      "\n",
      "    accuracy                           0.63      5000\n",
      "   macro avg       0.69      0.69      0.63      5000\n",
      "weighted avg       0.75      0.63      0.63      5000\n",
      "\n",
      "model3 classification report:                precision    recall  f1-score   support\n",
      "\n",
      "         cat       0.36      0.51      0.42      1746\n",
      "         dog       0.66      0.51      0.57      3254\n",
      "\n",
      "    accuracy                           0.51      5000\n",
      "   macro avg       0.51      0.51      0.50      5000\n",
      "weighted avg       0.55      0.51      0.52      5000\n",
      "\n",
      "model4 classification report:                precision    recall  f1-score   support\n",
      "\n",
      "         cat       0.81      0.35      0.48      1746\n",
      "         dog       0.73      0.96      0.83      3254\n",
      "\n",
      "    accuracy                           0.74      5000\n",
      "   macro avg       0.77      0.65      0.66      5000\n",
      "weighted avg       0.76      0.74      0.71      5000\n",
      "\n"
     ]
    }
   ],
   "source": [
    "# importing function\n",
    "from sklearn.metrics import classification_report\n",
    "\n",
    "# printing classification report for baseline and 4 models\n",
    "print('baseline classification report: ',classification_report(gp.actual, gp.baseline))\n",
    "print('model1 classification report: ',classification_report(gp.actual, gp.model1))\n",
    "print('model2 classification report: ',classification_report(gp.actual, gp.model2))\n",
    "print('model3 classification report: ',classification_report(gp.actual, gp.model3))\n",
    "print('model4 classification report: ',classification_report(gp.actual, gp.model4))"
   ]
  },
  {
   "cell_type": "code",
   "execution_count": null,
   "metadata": {},
   "outputs": [],
   "source": []
  },
  {
   "cell_type": "code",
   "execution_count": null,
   "metadata": {},
   "outputs": [],
   "source": []
  }
 ],
 "metadata": {
  "kernelspec": {
   "display_name": "Python 3",
   "language": "python",
   "name": "python3"
  },
  "language_info": {
   "codemirror_mode": {
    "name": "ipython",
    "version": 3
   },
   "file_extension": ".py",
   "mimetype": "text/x-python",
   "name": "python",
   "nbconvert_exporter": "python",
   "pygments_lexer": "ipython3",
   "version": "3.7.6"
  }
 },
 "nbformat": 4,
 "nbformat_minor": 4
}
